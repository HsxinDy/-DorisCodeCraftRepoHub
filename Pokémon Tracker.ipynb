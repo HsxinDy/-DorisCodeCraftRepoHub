{
 "cells": [
  {
   "cell_type": "code",
   "execution_count": 329,
   "metadata": {},
   "outputs": [],
   "source": [
    "import numpy as np\n",
    "import pandas as pd\n",
    "import tensorflow as tf\n",
    "import matplotlib.pyplot as plt\n",
    "from keras.utils import to_categorical\n",
    "from sklearn.model_selection import train_test_split"
   ]
  },
  {
   "cell_type": "code",
   "execution_count": 330,
   "metadata": {},
   "outputs": [],
   "source": [
    "batch_size = 64\n",
    "epochs = 30\n",
    "lr = 0.01\n",
    "train_ratio = 0.9"
   ]
  },
  {
   "cell_type": "code",
   "execution_count": 331,
   "metadata": {},
   "outputs": [
    {
     "name": "stdout",
     "output_type": "stream",
     "text": [
      "[(7160, 183), (1791, 182)]\n"
     ]
    }
   ],
   "source": [
    "Train_df = pd.read_csv('train.csv',index_col=0)\n",
    "Test_df  = pd.read_csv('test.csv',index_col=0)\n",
    "print([Train_df.shape,Test_df.shape])"
   ]
  },
  {
   "cell_type": "code",
   "execution_count": 332,
   "metadata": {},
   "outputs": [],
   "source": [
    "y= (Train_df['class']).values\n",
    "Train_df1= Train_df.drop('class',axis='columns')"
   ]
  },
  {
   "cell_type": "code",
   "execution_count": 333,
   "metadata": {},
   "outputs": [],
   "source": [
    "Concat= pd.concat([Train_df1,Test_df],axis='rows')\n",
    "Concat_1= Concat.drop(['appearedHour','appearedMinute'],axis='columns')"
   ]
  },
  {
   "cell_type": "code",
   "execution_count": 334,
   "metadata": {},
   "outputs": [
    {
     "data": {
      "text/plain": [
       "(8951, 296)"
      ]
     },
     "execution_count": 334,
     "metadata": {},
     "output_type": "execute_result"
    }
   ],
   "source": [
    "All=pd.get_dummies(Concat_1)\n",
    "All.shape"
   ]
  },
  {
   "cell_type": "code",
   "execution_count": 335,
   "metadata": {},
   "outputs": [
    {
     "data": {
      "text/plain": [
       "(8951, 296)"
      ]
     },
     "execution_count": 335,
     "metadata": {},
     "output_type": "execute_result"
    }
   ],
   "source": [
    "from sklearn.preprocessing import MinMaxScaler\n",
    "Scaler = MinMaxScaler()\n",
    "All_Scale= Scaler.fit_transform(All)\n",
    "All_Scale.shape"
   ]
  },
  {
   "cell_type": "code",
   "execution_count": 336,
   "metadata": {},
   "outputs": [],
   "source": [
    "All_Scale1= pd.DataFrame(All_Scale)"
   ]
  },
  {
   "cell_type": "code",
   "execution_count": 337,
   "metadata": {},
   "outputs": [
    {
     "name": "stdout",
     "output_type": "stream",
     "text": [
      "[(7160, 296), (1791, 296)]\n"
     ]
    }
   ],
   "source": [
    "Test_df1 = All_Scale1.iloc[7160:,:]\n",
    "X=(All_Scale1.iloc[0:7160,:]).values\n",
    "print([X.shape,Test_df1.shape])"
   ]
  },
  {
   "cell_type": "code",
   "execution_count": 338,
   "metadata": {},
   "outputs": [],
   "source": [
    "from tensorflow.keras.layers import Dense,Dropout"
   ]
  },
  {
   "cell_type": "code",
   "execution_count": 339,
   "metadata": {},
   "outputs": [
    {
     "name": "stdout",
     "output_type": "stream",
     "text": [
      "_________________________________________________________________\n",
      "Layer (type)                 Output Shape              Param #   \n",
      "=================================================================\n",
      "dense_106 (Dense)            (None, 256)               76032     \n",
      "_________________________________________________________________\n",
      "dropout_63 (Dropout)         (None, 256)               0         \n",
      "_________________________________________________________________\n",
      "dense_107 (Dense)            (None, 190)               48830     \n",
      "_________________________________________________________________\n",
      "dropout_64 (Dropout)         (None, 190)               0         \n",
      "_________________________________________________________________\n",
      "dense_108 (Dense)            (None, 150)               28650     \n",
      "_________________________________________________________________\n",
      "dropout_65 (Dropout)         (None, 150)               0         \n",
      "_________________________________________________________________\n",
      "dense_109 (Dense)            (None, 100)               15100     \n",
      "_________________________________________________________________\n",
      "dropout_66 (Dropout)         (None, 100)               0         \n",
      "_________________________________________________________________\n",
      "dense_110 (Dense)            (None, 50)                5050      \n",
      "_________________________________________________________________\n",
      "dropout_67 (Dropout)         (None, 50)                0         \n",
      "_________________________________________________________________\n",
      "dense_111 (Dense)            (None, 6)                 306       \n",
      "=================================================================\n",
      "Total params: 173,968\n",
      "Trainable params: 173,968\n",
      "Non-trainable params: 0\n",
      "_________________________________________________________________\n",
      "None\n"
     ]
    }
   ],
   "source": [
    "model = tf.keras.Sequential()\n",
    "model.add(Dense(256, activation='relu', input_shape=(296,)))\n",
    "model.add(Dropout(0.5))\n",
    "model.add(Dense(190, activation='relu'))\n",
    "model.add(Dropout(0.5))\n",
    "model.add(Dense(150, activation='relu'))\n",
    "model.add(Dropout(0.4))\n",
    "model.add(Dense(100, activation='relu'))\n",
    "model.add(Dropout(0.4))\n",
    "model.add(Dense(50, activation='elu'))\n",
    "model.add(Dropout(0.2))\n",
    "model.add(Dense(6, activation='softmax')) \n",
    "\n",
    "print(model.summary())"
   ]
  },
  {
   "cell_type": "code",
   "execution_count": 340,
   "metadata": {},
   "outputs": [],
   "source": [
    "model.compile(loss='categorical_crossentropy',\n",
    "              optimizer=tf.keras.optimizers.Adam(),\n",
    "              metrics=['accuracy'])"
   ]
  },
  {
   "cell_type": "code",
   "execution_count": 341,
   "metadata": {},
   "outputs": [],
   "source": [
    "from keras.utils import to_categorical\n",
    "y_binary = to_categorical(y)"
   ]
  },
  {
   "cell_type": "code",
   "execution_count": 342,
   "metadata": {},
   "outputs": [
    {
     "name": "stdout",
     "output_type": "stream",
     "text": [
      "Train on 6444 samples, validate on 716 samples\n",
      "Epoch 1/30\n",
      "6444/6444 [==============================] - 2s 284us/step - loss: 1.7515 - acc: 0.2149 - val_loss: 1.6000 - val_acc: 0.3254\n",
      "Epoch 2/30\n",
      "6444/6444 [==============================] - 1s 84us/step - loss: 1.5471 - acc: 0.3520 - val_loss: 1.3868 - val_acc: 0.4581\n",
      "Epoch 3/30\n",
      "6444/6444 [==============================] - 1s 81us/step - loss: 1.4184 - acc: 0.4215 - val_loss: 1.3075 - val_acc: 0.4902\n",
      "Epoch 4/30\n",
      "6444/6444 [==============================] - 1s 87us/step - loss: 1.3581 - acc: 0.4524 - val_loss: 1.2744 - val_acc: 0.4916\n",
      "Epoch 5/30\n",
      "6444/6444 [==============================] - 1s 82us/step - loss: 1.3207 - acc: 0.4809 - val_loss: 1.2704 - val_acc: 0.4958\n",
      "Epoch 6/30\n",
      "6444/6444 [==============================] - 1s 82us/step - loss: 1.2814 - acc: 0.4932 - val_loss: 1.2276 - val_acc: 0.5209\n",
      "Epoch 7/30\n",
      "6444/6444 [==============================] - 1s 85us/step - loss: 1.2490 - acc: 0.5081 - val_loss: 1.2289 - val_acc: 0.5265\n",
      "Epoch 8/30\n",
      "6444/6444 [==============================] - 1s 84us/step - loss: 1.2226 - acc: 0.5216 - val_loss: 1.2330 - val_acc: 0.5628\n",
      "Epoch 9/30\n",
      "6444/6444 [==============================] - 1s 85us/step - loss: 1.2076 - acc: 0.5355 - val_loss: 1.2067 - val_acc: 0.5587\n",
      "Epoch 10/30\n",
      "6444/6444 [==============================] - 1s 84us/step - loss: 1.1833 - acc: 0.5448 - val_loss: 1.2093 - val_acc: 0.5601\n",
      "Epoch 11/30\n",
      "6444/6444 [==============================] - 1s 85us/step - loss: 1.1646 - acc: 0.5551 - val_loss: 1.1913 - val_acc: 0.5712\n",
      "Epoch 12/30\n",
      "6444/6444 [==============================] - 1s 84us/step - loss: 1.1515 - acc: 0.5658 - val_loss: 1.1687 - val_acc: 0.5908\n",
      "Epoch 13/30\n",
      "6444/6444 [==============================] - 1s 86us/step - loss: 1.1292 - acc: 0.5784 - val_loss: 1.2088 - val_acc: 0.5559\n",
      "Epoch 14/30\n",
      "6444/6444 [==============================] - 1s 82us/step - loss: 1.1110 - acc: 0.5877 - val_loss: 1.1792 - val_acc: 0.5838\n",
      "Epoch 15/30\n",
      "6444/6444 [==============================] - 1s 86us/step - loss: 1.1021 - acc: 0.5832 - val_loss: 1.1680 - val_acc: 0.5684\n",
      "Epoch 16/30\n",
      "6444/6444 [==============================] - 1s 85us/step - loss: 1.0850 - acc: 0.5984 - val_loss: 1.1804 - val_acc: 0.5726\n",
      "Epoch 17/30\n",
      "6444/6444 [==============================] - 1s 85us/step - loss: 1.0773 - acc: 0.6041 - val_loss: 1.1828 - val_acc: 0.5782\n",
      "Epoch 18/30\n",
      "6444/6444 [==============================] - 1s 83us/step - loss: 1.0667 - acc: 0.5987 - val_loss: 1.1628 - val_acc: 0.5866\n",
      "Epoch 19/30\n",
      "6444/6444 [==============================] - 1s 83us/step - loss: 1.0448 - acc: 0.6151 - val_loss: 1.1644 - val_acc: 0.5782\n",
      "Epoch 20/30\n",
      "6444/6444 [==============================] - 1s 85us/step - loss: 1.0291 - acc: 0.6167 - val_loss: 1.1704 - val_acc: 0.5824\n",
      "Epoch 21/30\n",
      "6444/6444 [==============================] - 1s 83us/step - loss: 1.0217 - acc: 0.6189 - val_loss: 1.1910 - val_acc: 0.5866\n",
      "Epoch 22/30\n",
      "6444/6444 [==============================] - 1s 82us/step - loss: 0.9999 - acc: 0.6266 - val_loss: 1.1821 - val_acc: 0.5810\n",
      "Epoch 23/30\n",
      "6444/6444 [==============================] - 1s 86us/step - loss: 1.0073 - acc: 0.6251 - val_loss: 1.1772 - val_acc: 0.5880\n",
      "Epoch 24/30\n",
      "6444/6444 [==============================] - 1s 83us/step - loss: 0.9979 - acc: 0.6293 - val_loss: 1.1796 - val_acc: 0.5782\n",
      "Epoch 25/30\n",
      "6444/6444 [==============================] - 1s 85us/step - loss: 0.9691 - acc: 0.6434 - val_loss: 1.1776 - val_acc: 0.5880\n",
      "Epoch 26/30\n",
      "6444/6444 [==============================] - 1s 85us/step - loss: 0.9681 - acc: 0.6417 - val_loss: 1.2059 - val_acc: 0.5768\n",
      "Epoch 27/30\n",
      "6444/6444 [==============================] - 1s 87us/step - loss: 0.9594 - acc: 0.6418 - val_loss: 1.1964 - val_acc: 0.5992\n",
      "Epoch 28/30\n",
      "6444/6444 [==============================] - 1s 85us/step - loss: 0.9512 - acc: 0.6494 - val_loss: 1.1860 - val_acc: 0.5950\n",
      "Epoch 29/30\n",
      "6444/6444 [==============================] - 1s 83us/step - loss: 0.9486 - acc: 0.6484 - val_loss: 1.1979 - val_acc: 0.5712\n",
      "Epoch 30/30\n",
      "6444/6444 [==============================] - 1s 81us/step - loss: 0.9321 - acc: 0.6539 - val_loss: 1.1822 - val_acc: 0.5964\n"
     ]
    }
   ],
   "source": [
    "Model_History = model.fit(x=X , y=y_binary,\n",
    "                          batch_size= batch_size,\n",
    "                          epochs= epochs,\n",
    "                          validation_split= 1 - train_ratio)"
   ]
  },
  {
   "cell_type": "code",
   "execution_count": 343,
   "metadata": {},
   "outputs": [],
   "source": [
    "train_loss = Model_History.history['loss']\n",
    "train_acc = Model_History.history['acc']\n",
    "valid_loss = Model_History.history['val_loss']\n",
    "valid_acc = Model_History.history['val_acc']"
   ]
  },
  {
   "cell_type": "code",
   "execution_count": 344,
   "metadata": {},
   "outputs": [
    {
     "data": {
      "image/png": "[encoded data removed]",
      "text/plain": [
       "<Figure size 432x288 with 1 Axes>"
      ]
     },
     "metadata": {
      "needs_background": "light"
     },
     "output_type": "display_data"
    },
    {
     "data": {
      "image/png": "[encoded data removed]",
      "text/plain": [
       "<Figure size 432x288 with 1 Axes>"
      ]
     },
     "metadata": {
      "needs_background": "light"
     },
     "output_type": "display_data"
    }
   ],
   "source": [
    "plt.plot(train_loss, 'b', label='train')\n",
    "plt.plot(valid_loss, 'r', label='valid')\n",
    "plt.legend()\n",
    "plt.title(\"Loss\")\n",
    "plt.show()\n",
    "\n",
    "plt.plot(train_acc, 'b', label='train')\n",
    "plt.plot(valid_acc, 'r', label='valid')\n",
    "plt.legend(loc=4)\n",
    "plt.title(\"Accuracy\")\n",
    "plt.show()"
   ]
  },
  {
   "cell_type": "code",
   "execution_count": 345,
   "metadata": {},
   "outputs": [],
   "source": [
    "from sklearn.metrics import accuracy_score"
   ]
  },
  {
   "cell_type": "code",
   "execution_count": 346,
   "metadata": {},
   "outputs": [
    {
     "data": {
      "text/plain": [
       "(1791,)"
      ]
     },
     "execution_count": 346,
     "metadata": {},
     "output_type": "execute_result"
    }
   ],
   "source": [
    "y_predict = model.predict_classes(Test_df1)\n",
    "y_predict.shape"
   ]
  },
  {
   "cell_type": "code",
   "execution_count": 347,
   "metadata": {},
   "outputs": [],
   "source": [
    "Result = pd.read_csv('sample_submission.csv')\n",
    "Result['class'] = (y_predict)\n",
    "Result.to_csv('Result.csv',index=False)"
   ]
  },
  {
   "cell_type": "code",
   "execution_count": null,
   "metadata": {},
   "outputs": [],
   "source": []
  }
 ],
 "metadata": {
  "kernelspec": {
   "display_name": "Python 3",
   "language": "python",
   "name": "python3"
  },
  "language_info": {
   "codemirror_mode": {
    "name": "ipython",
    "version": 3
   },
   "file_extension": ".py",
   "mimetype": "text/x-python",
   "name": "python",
   "nbconvert_exporter": "python",
   "pygments_lexer": "ipython3",
   "version": "3.6.6"
  }
 },
 "nbformat": 4,
 "nbformat_minor": 2
}
